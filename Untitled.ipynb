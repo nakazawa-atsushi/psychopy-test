{
 "cells": [
  {
   "cell_type": "code",
   "execution_count": 3,
   "id": "23f9b3d2-37e7-46db-8b4a-9d99dbfbddeb",
   "metadata": {},
   "outputs": [],
   "source": [
    "import matplotlib.pyplot as plt #実際にプロットする\n",
    "import numpy as np #データの整理\n",
    "import pandas as pd #データフレームのライブラリ\n",
    "import h5py #HDF5のライブラリ"
   ]
  },
  {
   "cell_type": "code",
   "execution_count": 11,
   "id": "2560ee19-42cf-4f59-8e4c-222d61499162",
   "metadata": {},
   "outputs": [
    {
     "name": "stdout",
     "output_type": "stream",
     "text": [
      "class_table_mapping\n",
      "data_collection\n",
      "data_collection/condition_variables\n",
      "data_collection/events\n",
      "data_collection/events/experiment\n",
      "data_collection/events/experiment/LogEvent\n",
      "data_collection/events/experiment/MessageEvent\n",
      "data_collection/events/eyetracker\n",
      "data_collection/events/eyetracker/BinocularEyeSampleEvent\n",
      "data_collection/events/eyetracker/BlinkEndEvent\n",
      "data_collection/events/eyetracker/BlinkStartEvent\n",
      "data_collection/events/eyetracker/FixationEndEvent\n",
      "data_collection/events/eyetracker/FixationStartEvent\n",
      "data_collection/events/eyetracker/MonocularEyeSampleEvent\n",
      "data_collection/events/eyetracker/SaccadeEndEvent\n",
      "data_collection/events/eyetracker/SaccadeStartEvent\n",
      "data_collection/events/keyboard\n",
      "data_collection/events/keyboard/KeyboardInputEvent\n",
      "data_collection/events/mouse\n",
      "data_collection/events/mouse/MouseInputEvent\n",
      "data_collection/events/pstbox\n",
      "data_collection/events/serial\n",
      "data_collection/events/wintab\n",
      "data_collection/experiment_meta_data\n",
      "data_collection/session_meta_data\n"
     ]
    }
   ],
   "source": [
    "def PrintAllObjects(name):\n",
    "    print(name)\n",
    "\n",
    "with h5py.File(\"data/938142_test2_2025-05-02_15h55.17.219.hdf5\",'r') as f:\n",
    "    f.visit(PrintAllObjects)\n"
   ]
  },
  {
   "cell_type": "code",
   "execution_count": null,
   "id": "b6b705f8-9d83-4305-89dc-5c4e1e14a051",
   "metadata": {},
   "outputs": [],
   "source": [
    "def PrintOnlyDataset(name, obj):\n",
    "    if isinstance(obj, h5py.Dataset):\n",
    "        print(name)\n",
    "        # print('\\t',obj)\n",
    "        \n",
    "with h5py.File(hdfp,'r') as f:\n",
    "    f.visititems(PrintOnlyDataset)"
   ]
  }
 ],
 "metadata": {
  "kernelspec": {
   "display_name": "Python 3 (ipykernel)",
   "language": "python",
   "name": "python3"
  },
  "language_info": {
   "codemirror_mode": {
    "name": "ipython",
    "version": 3
   },
   "file_extension": ".py",
   "mimetype": "text/x-python",
   "name": "python",
   "nbconvert_exporter": "python",
   "pygments_lexer": "ipython3",
   "version": "3.10.11"
  }
 },
 "nbformat": 4,
 "nbformat_minor": 5
}
